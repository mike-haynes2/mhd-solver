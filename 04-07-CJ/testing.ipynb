{
 "cells": [
  {
   "cell_type": "code",
   "id": "initial_id",
   "metadata": {
    "collapsed": true,
    "ExecuteTime": {
     "end_time": "2025-04-08T01:28:21.191921Z",
     "start_time": "2025-04-08T01:28:20.794084Z"
    }
   },
   "source": [
    "from functools import partial\n",
    "from joblib import Parallel, delayed\n",
    "from sympy.physics.units import length\n",
    "\n",
    "\n",
    "def work(b, c, a):\n",
    "    return a + b * c\n",
    "\n",
    "fixed_work = partial(work, b=2, c=3)\n",
    "\n",
    "a_vals = [1, 4, 7, 10]\n",
    "\n",
    "results = Parallel(n_jobs=-1)(\n",
    "    delayed(fixed_work)(a=a) for a in a_vals\n",
    ")\n",
    "\n",
    "print(results)"
   ],
   "outputs": [
    {
     "name": "stdout",
     "output_type": "stream",
     "text": [
      "[7, 10, 13, 16]\n"
     ]
    }
   ],
   "execution_count": 1
  },
  {
   "metadata": {
    "ExecuteTime": {
     "end_time": "2025-04-08T03:25:14.312389Z",
     "start_time": "2025-04-08T03:25:14.057973Z"
    }
   },
   "cell_type": "code",
   "source": [
    "import os\n",
    "import numpy as np\n",
    "import matplotlib.pyplot as plt\n",
    "\n",
    "# this is variable depending on whatever eden wrote if it is worth implementing\n",
    "# def plotDict(dict , variable):\n",
    "#     for key, value in dict.items():\n",
    "        \n",
    "    "
   ],
   "id": "ed9923237f77940c",
   "outputs": [],
   "execution_count": 11
  },
  {
   "metadata": {
    "ExecuteTime": {
     "end_time": "2025-04-08T02:55:19.551625Z",
     "start_time": "2025-04-08T02:55:19.545496Z"
    }
   },
   "cell_type": "code",
   "source": [
    "name='Brio & Wu'\n",
    "directory = f'alpha_test_dir_case_{name}'\n",
    "# directory = 'sigmoid_test'\n",
    "\n",
    "# these are for all alpha and are organized by <alpha>_<time> for plotting\n",
    "B_y = {}; B_z = {}\n",
    "rho = {}; en = {}\n",
    "u_x = {}; u_y = {}; u_z = {}\n",
    "for file in os.listdir(directory):\n",
    "    full_path = os.path.join(directory, file)\n",
    "    split_name = file.split('_')\n",
    "    case = split_name[1]; var = split_name[3]; t = split_name[5] # val will be either alpha or sigma depending on what directory is commented\n",
    "    data = np.load(full_path)\n",
    "    B_y[f'{var}_{t}'] = data[f'B_y_{var}_{t}']\n",
    "    B_z[f'{var}_{t}'] = data[f'B_z_{var}_{t}']\n",
    "    u_x[f'{var}_{t}'] = data[f'u_x_{var}_{t}']\n",
    "    u_y[f'{var}_{t}'] = data[f'u_y_{var}_{t}']\n",
    "    u_z[f'{var}_{t}'] = data[f'u_z_{var}_{t}']\n",
    "    en[f'{var}_{t}'] = data[f'en_{var}_{t}']\n",
    "    rho[f'{var}_{t}'] = data[f'rho_{var}_{t}']\n",
    "    "
   ],
   "id": "994d756d1f50f5b2",
   "outputs": [
    {
     "name": "stdout",
     "output_type": "stream",
     "text": [
      "['rho_1_0.12000000000000009', 'u_x_1_0.12000000000000009', 'u_y_1_0.12000000000000009', 'u_z_1_0.12000000000000009', 'B_y_1_0.12000000000000009', 'B_z_1_0.12000000000000009', 'en_1_0.12000000000000009']\n",
      "['rho_1.4_0.04000000000000003', 'u_x_1.4_0.04000000000000003', 'u_y_1.4_0.04000000000000003', 'u_z_1.4_0.04000000000000003', 'B_y_1.4_0.04000000000000003', 'B_z_1.4_0.04000000000000003', 'en_1.4_0.04000000000000003']\n",
      "['rho_1_0.19999999999999182', 'u_x_1_0.19999999999999182', 'u_y_1_0.19999999999999182', 'u_z_1_0.19999999999999182', 'B_y_1_0.19999999999999182', 'B_z_1_0.19999999999999182', 'en_1_0.19999999999999182']\n",
      "['rho_1_0.08000000000000006', 'u_x_1_0.08000000000000006', 'u_y_1_0.08000000000000006', 'u_z_1_0.08000000000000006', 'B_y_1_0.08000000000000006', 'B_z_1_0.08000000000000006', 'en_1_0.08000000000000006']\n",
      "['rho_1_0.15999999999999623', 'u_x_1_0.15999999999999623', 'u_y_1_0.15999999999999623', 'u_z_1_0.15999999999999623', 'B_y_1_0.15999999999999623', 'B_z_1_0.15999999999999623', 'en_1_0.15999999999999623']\n",
      "['rho_1.4_0.19999999999999182', 'u_x_1.4_0.19999999999999182', 'u_y_1.4_0.19999999999999182', 'u_z_1.4_0.19999999999999182', 'B_y_1.4_0.19999999999999182', 'B_z_1.4_0.19999999999999182', 'en_1.4_0.19999999999999182']\n",
      "['rho_1.4_0.08000000000000006', 'u_x_1.4_0.08000000000000006', 'u_y_1.4_0.08000000000000006', 'u_z_1.4_0.08000000000000006', 'B_y_1.4_0.08000000000000006', 'B_z_1.4_0.08000000000000006', 'en_1.4_0.08000000000000006']\n",
      "['rho_1.4_0.15999999999999623', 'u_x_1.4_0.15999999999999623', 'u_y_1.4_0.15999999999999623', 'u_z_1.4_0.15999999999999623', 'B_y_1.4_0.15999999999999623', 'B_z_1.4_0.15999999999999623', 'en_1.4_0.15999999999999623']\n",
      "['rho_1.4_0', 'u_x_1.4_0', 'u_y_1.4_0', 'u_z_1.4_0', 'B_y_1.4_0', 'B_z_1.4_0', 'en_1.4_0']\n",
      "['rho_1_0', 'u_x_1_0', 'u_y_1_0', 'u_z_1_0', 'B_y_1_0', 'B_z_1_0', 'en_1_0']\n",
      "['rho_1_0.04000000000000003', 'u_x_1_0.04000000000000003', 'u_y_1_0.04000000000000003', 'u_z_1_0.04000000000000003', 'B_y_1_0.04000000000000003', 'B_z_1_0.04000000000000003', 'en_1_0.04000000000000003']\n",
      "['rho_1.4_0.12000000000000009', 'u_x_1.4_0.12000000000000009', 'u_y_1.4_0.12000000000000009', 'u_z_1.4_0.12000000000000009', 'B_y_1.4_0.12000000000000009', 'B_z_1.4_0.12000000000000009', 'en_1.4_0.12000000000000009']\n"
     ]
    }
   ],
   "execution_count": 9
  },
  {
   "metadata": {
    "ExecuteTime": {
     "end_time": "2025-04-08T03:32:17.603815Z",
     "start_time": "2025-04-08T03:32:17.539979Z"
    }
   },
   "cell_type": "code",
   "source": [
    "bruh = np.linspace(-1, 1, 200)\n",
    "\n",
    "def sig(x): return 1 / (1 + np.exp(-10 * x))\n",
    "\n",
    "p0 =  sig(bruh)\n",
    "plt.plot(bruh, p0)"
   ],
   "id": "f8025fe5cd5da5e0",
   "outputs": [
    {
     "data": {
      "text/plain": [
       "[<matplotlib.lines.Line2D at 0x1624a5f10>]"
      ]
     },
     "execution_count": 22,
     "metadata": {},
     "output_type": "execute_result"
    },
    {
     "data": {
      "text/plain": [
       "<Figure size 640x480 with 1 Axes>"
      ],
      "image/png": "[encoded data removed]"
     },
     "metadata": {},
     "output_type": "display_data"
    }
   ],
   "execution_count": 22
  }
 ],
 "metadata": {
  "kernelspec": {
   "display_name": "Python 3",
   "language": "python",
   "name": "python3"
  },
  "language_info": {
   "codemirror_mode": {
    "name": "ipython",
    "version": 2
   },
   "file_extension": ".py",
   "mimetype": "text/x-python",
   "name": "python",
   "nbconvert_exporter": "python",
   "pygments_lexer": "ipython2",
   "version": "2.7.6"
  }
 },
 "nbformat": 4,
 "nbformat_minor": 5
}
