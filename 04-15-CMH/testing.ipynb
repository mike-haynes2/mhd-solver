{
 "cells": [
  {
   "cell_type": "code",
   "execution_count": 11,
   "id": "initial_id",
   "metadata": {
    "ExecuteTime": {
     "end_time": "2025-04-10T18:58:03.005324Z",
     "start_time": "2025-04-10T18:58:02.976720Z"
    },
    "collapsed": true
   },
   "outputs": [],
   "source": [
    "import os\n",
    "import numpy as np\n",
    "\n",
    "B_y = {};B_z = {}\n",
    "rho = {};en = {}\n",
    "u_x = {};u_y = {};u_z = {}\n",
    "# directory = 'sigmoid_test_14:35:03'# YOU WILL NEED TO CHANGE THIS BASED ON WHAT YOU NEED\n",
    "directory = 'alpha_test_Brio&Wu_14:57:23'\n",
    "\n",
    "# SEE LINE 103 AND 107 FOR FORMAT OF THE NAMES IF YOU WANT TO FIND A CLEVER WAY TO DO IT\n",
    "for file in os.listdir(directory):\n",
    "    full_path = os.path.join(directory, file)\n",
    "    split_name = file.split('_')\n",
    "    if split_name[0] == 'sigmoid':\n",
    "        case = split_name[0]; var = split_name[1]; t = split_name[3]  # val will be either alpha or sigma depending on what directory is commented\n",
    "    else:\n",
    "        case = split_name[1]; var = split_name[3]; t = split_name[5]\n",
    "\n",
    "    data = np.load(full_path)\n",
    "\n",
    "    B_y[f'{var}_{t}'] = data[f'B_y_{var}_{t}']\n",
    "    B_z[f'{var}_{t}'] = data[f'B_z_{var}_{t}']\n",
    "    u_x[f'{var}_{t}'] = data[f'u_x_{var}_{t}']\n",
    "    u_y[f'{var}_{t}'] = data[f'u_y_{var}_{t}']\n",
    "    u_z[f'{var}_{t}'] = data[f'u_z_{var}_{t}']\n",
    "    en[f'{var}_{t}'] = data[f'en_{var}_{t}']\n",
    "    rho[f'{var}_{t}'] = data[f'rho_{var}_{t}']"
   ]
  },
  {
   "cell_type": "code",
   "execution_count": null,
   "id": "718b93f8",
   "metadata": {},
   "outputs": [],
   "source": [
    "import os\n",
    "import numpy as np\n",
    "from datavis import visualize_mhd_data\n",
    "import matplotlib.pyplot as plt\n",
    "\n",
    "\n",
    "B_y = {};B_z = {}\n",
    "rho = {};en = {}\n",
    "u_x = {};u_y = {};u_z = {}\n",
    "directory = 'sigmoid_test_10-38-35'# YOU WILL NEED TO CHANGE THIS BASED ON WHAT YOU NEED\n",
    "# directory = 'alpha_test_Brio&Wu_14:57:23'\n",
    "# SEE LINE 103 AND 107 FOR FORMAT OF THE NAMES IF YOU WANT TO FIND A CLEVER WAY TO DO IT\n",
    "t_vals =[];var_vals = []\n",
    "for file in os.listdir(directory):\n",
    "    full_path = os.path.join(directory, file)\n",
    "    split_name = file.split('_')\n",
    "    if split_name[0] == 'sigmoid':\n",
    "        case = split_name[0]; var = split_name[1]; t = split_name[3]  # val will be either alpha or sigma depending on what directory is commented\n",
    "    else:\n",
    "        case = split_name[1]; var = split_name[3]; t = split_name[5]\n",
    "\n",
    "    t_vals.append(t); var_vals.append(var)\n",
    "    data = np.load(full_path)\n",
    "\n",
    "    B_y[f'{var}_{t}'] = data[f'B_y_{var}_{t}']\n",
    "    B_z[f'{var}_{t}'] = data[f'B_z_{var}_{t}']\n",
    "    u_x[f'{var}_{t}'] = data[f'u_x_{var}_{t}']\n",
    "    u_y[f'{var}_{t}'] = data[f'u_y_{var}_{t}']\n",
    "    u_z[f'{var}_{t}'] = data[f'u_z_{var}_{t}']\n",
    "    en[f'{var}_{t}'] = data[f'en_{var}_{t}']\n",
    "    rho[f'{var}_{t}'] = data[f'rho_{var}_{t}']\n",
    "\n",
    "\n",
    "t_vals = np.unique(t_vals); var_vals = np.unique(var_vals)\n",
    "for t_val in t_vals:\n",
    "    for count, (key, value) in enumerate(B_y.items()):\n",
    "        var, t = key.split('_')\n",
    "        #### time plotting ####\n",
    "        print(t)\n",
    "        print(var)\n",
    "        if t == t_val:\n",
    "            plt.plot(value, label=f'{var}', alpha=.3, lw=2)\n",
    "    plt.title(f'Time: {t_val}')\n",
    "    plt.xlabel('Position')\n",
    "    plt.ylabel('B_y') # NEEDTO CHANGE THIS TO WHATEVER YOU ARE CALLING ASBFKJASDBFKJASDBFKASBFKBAF\n",
    "    plt.legend()\n",
    "    plt.show()\n"
   ]
  }
 ],
 "metadata": {
  "kernelspec": {
   "display_name": "Python 3",
   "language": "python",
   "name": "python3"
  },
  "language_info": {
   "codemirror_mode": {
    "name": "ipython",
    "version": 2
   },
   "file_extension": ".py",
   "mimetype": "text/x-python",
   "name": "python",
   "nbconvert_exporter": "python",
   "pygments_lexer": "ipython2",
   "version": "2.7.6"
  }
 },
 "nbformat": 4,
 "nbformat_minor": 5
}
